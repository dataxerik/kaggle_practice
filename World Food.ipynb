{
 "cells": [
  {
   "cell_type": "code",
   "execution_count": 1,
   "metadata": {
    "collapsed": false
   },
   "outputs": [],
   "source": [
    "import sys\n",
    "import os\n",
    "import re\n",
    "import operator\n",
    "import pandas as pd\n",
    "import numpy as np\n",
    "import matplotlib.pyplot as plt\n",
    "from collections import defaultdict\n",
    "\n",
    "%matplotlib inline"
   ]
  },
  {
   "cell_type": "code",
   "execution_count": 2,
   "metadata": {
    "collapsed": true
   },
   "outputs": [],
   "source": [
    "# Returns a list of sugar counts if the country is in the tag\n",
    "def return_sugars(df, country):\n",
    "    sugar_index = df.columns.get_loc('sugars_100g')\n",
    "    country_index = df.columns.get_loc('countries_tags')\n",
    "    return [row[sugar_index] for index, row in df.iterrows() if country in row[country_index]]\n",
    "\n",
    "def return_category_tags(df, country):\n",
    "    product_index = df.columns.get_loc('categories_en')\n",
    "    country_index = df.columns.get_loc('countries_tags')\n",
    "    return [row[product_index] for index, row in df.iterrows() if country in row[country_index]]\n",
    "\n",
    "def parse_category(list_of_category):\n",
    "    categorized_dict = defaultdict(int)\n",
    "    for category_list in list_of_category:\n",
    "        for category in str(category_list).split(\",\")[:1]:\n",
    "            categorized_dict[category] += 1\n",
    "    return categorized_dict\n",
    "\n",
    "def condense_food_dictionary(raw_dict):\n",
    "    pass\n",
    "    "
   ]
  },
  {
   "cell_type": "code",
   "execution_count": 4,
   "metadata": {
    "collapsed": false
   },
   "outputs": [
    {
     "name": "stdout",
     "output_type": "stream",
     "text": [
      "Data loaded. There are 65503 rows\n"
     ]
    },
    {
     "name": "stderr",
     "output_type": "stream",
     "text": [
      "C:\\Users\\dsharp\\AppData\\Local\\Continuum\\Anaconda3\\lib\\site-packages\\IPython\\core\\interactiveshell.py:2723: DtypeWarning: Columns (0,3,5,27,36) have mixed types. Specify dtype option on import or set low_memory=False.\n",
      "  interactivity=interactivity, compiler=compiler, result=result)\n"
     ]
    }
   ],
   "source": [
    "# Just the data reading step. I check if the path for the file exist, and if so, ready the data from the file\n",
    "data_directory = os.getcwd()\n",
    "data_path = 'data\\world-food-facts\\FoodFacts.csv'\n",
    "data_path = os.path.join(data_directory, data_path)\n",
    "\n",
    "if os.path.exists(data_path): \n",
    "    world_food_facts = pd.read_csv(data_path)\n",
    "    world_food_facts.countries = world_food_facts.countries.str.lower()\n",
    "    print(\"Data loaded. There are {} rows\".format(world_food_facts.shape[0]))\n",
    "else:\n",
    "    print(\"Error: source data location: {} does not exist\".format(data_path))"
   ]
  },
  {
   "cell_type": "code",
   "execution_count": 5,
   "metadata": {
    "collapsed": false
   },
   "outputs": [
    {
     "data": {
      "text/plain": [
       "'After removing rows where countries_tags and sugars_100g columns are null, there are 32611 rows'"
      ]
     },
     "execution_count": 5,
     "metadata": {},
     "output_type": "execute_result"
    }
   ],
   "source": [
    "# For my approach, I need to remove the rows where the countries_tags and sugars_100g are null\n",
    "worlds_sugars = world_food_facts[(world_food_facts.countries_tags.notnull() & world_food_facts.sugars_100g.notnull())]\n",
    "\"After removing rows where countries_tags and sugars_100g columns are null, there are {} rows\".format(len(worlds_sugars))"
   ]
  },
  {
   "cell_type": "code",
   "execution_count": 6,
   "metadata": {
    "collapsed": false
   },
   "outputs": [],
   "source": [
    "country_tags = []\n",
    "for index, item in worlds_sugars.iterrows():\n",
    "    country_tokens = item.countries_tags.split(\",\")\n",
    "    if len(country_tokens) > 1:\n",
    "        for country in country_tokens:\n",
    "            if \":\" in country and country.split(\":\")[1] not in country_tags:\n",
    "                country_tags.append(country.split(\":\")[1])\n",
    "    else:\n",
    "        if \":\" in country_tokens and country_tokens.split(\":\")[1] not in country_tags:\n",
    "            country_tags.append(country.split(\":\")[1])"
   ]
  },
  {
   "cell_type": "code",
   "execution_count": 7,
   "metadata": {
    "collapsed": false
   },
   "outputs": [
    {
     "data": {
      "text/plain": [
       "['france', 'united-kingdom', 'united-states', 'australia', 'new-zealand']"
      ]
     },
     "execution_count": 7,
     "metadata": {},
     "output_type": "execute_result"
    }
   ],
   "source": [
    "country_tags[:5]"
   ]
  },
  {
   "cell_type": "code",
   "execution_count": 8,
   "metadata": {
    "collapsed": false
   },
   "outputs": [
    {
     "data": {
      "text/plain": [
       "69"
      ]
     },
     "execution_count": 8,
     "metadata": {},
     "output_type": "execute_result"
    }
   ],
   "source": [
    "len(set(country_tags))"
   ]
  },
  {
   "cell_type": "code",
   "execution_count": 9,
   "metadata": {
    "collapsed": false
   },
   "outputs": [
    {
     "name": "stdout",
     "output_type": "stream",
     "text": [
      "1\n"
     ]
    },
    {
     "data": {
      "text/plain": [
       "0.0"
      ]
     },
     "execution_count": 9,
     "metadata": {},
     "output_type": "execute_result"
    }
   ],
   "source": [
    "num = return_sugars(worlds_sugars, '日本')\n",
    "print(len(num))\n",
    "np.mean(return_sugars(worlds_sugars, '日本'))"
   ]
  },
  {
   "cell_type": "code",
   "execution_count": 10,
   "metadata": {
    "collapsed": false
   },
   "outputs": [
    {
     "name": "stdout",
     "output_type": "stream",
     "text": [
      "looking for country: france\n",
      "looking for country: united-kingdom\n",
      "looking for country: united-states\n",
      "looking for country: australia\n",
      "looking for country: new-zealand\n",
      "looking for country: singapore\n",
      "looking for country: thailand\n",
      "looking for country: denmark\n",
      "looking for country: spain\n",
      "looking for country: canada\n",
      "looking for country: quebec\n",
      "looking for country: czech-republic\n",
      "looking for country: indonesia\n",
      "looking for country: italy\n",
      "looking for country: french-guiana\n",
      "looking for country: switzerland\n",
      "looking for country: belgium\n",
      "looking for country: philippines\n",
      "looking for country: europe\n",
      "looking for country: lithuania\n",
      "looking for country: portugal\n",
      "looking for country: germany\n",
      "looking for country: netherlands\n",
      "looking for country: austria\n",
      "looking for country: romania\n",
      "looking for country: scotland\n",
      "looking for country: morocco\n",
      "looking for country: ireland\n",
      "looking for country: guadeloupe\n",
      "looking for country: monaco\n",
      "looking for country: reunion\n",
      "looking for country: luxembourg\n",
      "looking for country: japan\n",
      "looking for country: sweden\n",
      "looking for country: martinique\n",
      "looking for country: new-caledonia\n",
      "looking for country: saint-pierre-and-miquelon\n",
      "looking for country: united-arab-emirates\n",
      "looking for country: algeria\n",
      "looking for country: greece\n",
      "looking for country: poland\n",
      "looking for country: saudi-arabia\n",
      "looking for country: india\n",
      "looking for country: 日本\n",
      "looking for country: taiwan\n",
      "looking for country: thailanda\n",
      "looking for country: egypt\n",
      "looking for country: qatar\n",
      "looking for country: tunisia\n",
      "looking for country: european-union\n",
      "looking for country: slovakia\n",
      "looking for country: iraq\n",
      "looking for country: kuwait\n",
      "looking for country: moldova\n",
      "looking for country: angleterre\n",
      "looking for country: norway\n",
      "looking for country: serbia\n",
      "looking for country: andorra\n",
      "looking for country: bulgaria\n",
      "looking for country: albania\n",
      "looking for country: finland\n",
      "looking for country: hungary\n",
      "looking for country: russia\n",
      "looking for country: slovenia\n",
      "looking for country: turkey\n",
      "looking for country: cambodia\n",
      "looking for country: french-polynesia\n",
      "looking for country: china\n",
      "looking for country: hong-kong\n"
     ]
    }
   ],
   "source": [
    "sugar_mean_dic = {}\n",
    "for country in country_tags:\n",
    "    print(\"looking for country: {}\".format(country))\n",
    "    sugar = return_sugars(worlds_sugars, country)\n",
    "    if len(sugar) > 9:\n",
    "        sugar_mean_dic[country] = np.mean(sugar)"
   ]
  },
  {
   "cell_type": "code",
   "execution_count": 11,
   "metadata": {
    "collapsed": false
   },
   "outputs": [
    {
     "data": {
      "text/plain": [
       "dict_keys(['austria', 'french-guiana', 'netherlands', 'portugal', 'france', 'czech-republic', 'denmark', 'sweden', 'united-states', 'australia', 'greece', 'italy', 'united-kingdom', 'poland', 'luxembourg', 'martinique', 'switzerland', 'spain', 'romania', 'canada', 'europe', 'tunisia', 'hong-kong', 'guadeloupe', 'new-zealand', 'belgium', 'quebec', 'reunion', 'germany', 'thailand', 'saint-pierre-and-miquelon'])"
      ]
     },
     "execution_count": 11,
     "metadata": {},
     "output_type": "execute_result"
    }
   ],
   "source": [
    "sugar_mean_dic.keys()"
   ]
  },
  {
   "cell_type": "code",
   "execution_count": 12,
   "metadata": {
    "collapsed": false
   },
   "outputs": [],
   "source": [
    "sugar_mean_sorted_list = sorted(sugar_mean_dic.items(), key=operator.itemgetter(1))"
   ]
  },
  {
   "cell_type": "code",
   "execution_count": 13,
   "metadata": {
    "collapsed": false
   },
   "outputs": [],
   "source": [
    "sugar_mean_sorted_list.reverse()"
   ]
  },
  {
   "cell_type": "code",
   "execution_count": 14,
   "metadata": {
    "collapsed": false
   },
   "outputs": [
    {
     "name": "stdout",
     "output_type": "stream",
     "text": [
      "tunisia\n",
      "quebec\n"
     ]
    }
   ],
   "source": [
    "for country in sugar_mean_sorted_list[:2]:\n",
    "    print(country[0])"
   ]
  },
  {
   "cell_type": "code",
   "execution_count": 18,
   "metadata": {
    "collapsed": false
   },
   "outputs": [],
   "source": [
    "country_list = [pair[0] for pair in sugar_mean_sorted_list]\n",
    "sugar_list = [pair[1] for pair in sugar_mean_sorted_list]"
   ]
  },
  {
   "cell_type": "code",
   "execution_count": 41,
   "metadata": {
    "collapsed": false
   },
   "outputs": [
    {
     "data": {
      "image/png": "[encoded data removed]",
      "text/plain": [
       "<matplotlib.figure.Figure at 0x24b82730>"
      ]
     },
     "metadata": {},
     "output_type": "display_data"
    }
   ],
   "source": [
    "y_pos = np.arange((len(country_list[:10])))\n",
    "barwidth = 0.25\n",
    "plt.barh(y_pos, sugar_list[:10], align='center')\n",
    "plt.title('Average total sugar content per 100g')\n",
    "plt.yticks(y_pos, country_list[:10])\n",
    "plt.xlabel('Sugar/100g')\n",
    "#plt.tick_params(axis='x', pad=95)\n",
    "#plt.autofmt_xdate()\n",
    "#plt.setp(plt.xticks()[1], rotation=90)\n",
    "plt.show()"
   ]
  },
  {
   "cell_type": "code",
   "execution_count": 42,
   "metadata": {
    "collapsed": false
   },
   "outputs": [
    {
     "data": {
      "text/plain": [
       "'tunisia'"
      ]
     },
     "execution_count": 42,
     "metadata": {},
     "output_type": "execute_result"
    }
   ],
   "source": [
    "country_list[0]"
   ]
  },
  {
   "cell_type": "code",
   "execution_count": 43,
   "metadata": {
    "collapsed": false
   },
   "outputs": [],
   "source": [
    "country_products = return_category_tags(worlds_sugars, country_list[0])"
   ]
  },
  {
   "cell_type": "code",
   "execution_count": 42,
   "metadata": {
    "collapsed": false
   },
   "outputs": [
    {
     "data": {
      "text/plain": [
       "'tunisia'"
      ]
     },
     "execution_count": 42,
     "metadata": {},
     "output_type": "execute_result"
    }
   ],
   "source": [
    "country_list[0]"
   ]
  },
  {
   "cell_type": "code",
   "execution_count": 45,
   "metadata": {
    "collapsed": false
   },
   "outputs": [],
   "source": [
    "from collections import defaultdict\n",
    "\n",
    "type_dic = defaultdict(int)\n",
    "for product in country_products:\n",
    "    for type in str(product).split(\",\"):\n",
    "        type_dic[type] += 1\n",
    "    "
   ]
  },
  {
   "cell_type": "code",
   "execution_count": 46,
   "metadata": {
    "collapsed": false
   },
   "outputs": [],
   "source": [
    "country_product = []\n",
    "for country in country_list:\n",
    "    country_product.append(return_category_tags(worlds_sugars, country))"
   ]
  },
  {
   "cell_type": "code",
   "execution_count": 50,
   "metadata": {
    "collapsed": false
   },
   "outputs": [],
   "source": [
    "all_type_dic = defaultdict(int)\n",
    "for product_list in country_product:\n",
    "    for product in product_list:\n",
    "        for type in str(product).split(\",\"):\n",
    "            all_type_dic[type] += 1"
   ]
  },
  {
   "cell_type": "code",
   "execution_count": 61,
   "metadata": {
    "collapsed": false
   },
   "outputs": [],
   "source": [
    "us_category_list = return_category_tags(worlds_sugars, country_list[10])"
   ]
  },
  {
   "cell_type": "code",
   "execution_count": 62,
   "metadata": {
    "collapsed": false
   },
   "outputs": [],
   "source": [
    "parsed_us_dict = parse_category(us_category_list)"
   ]
  },
  {
   "cell_type": "code",
   "execution_count": 53,
   "metadata": {
    "collapsed": false
   },
   "outputs": [],
   "source": [
    "a = sorted(all_type_dic.items(), key=operator.itemgetter(1), reverse=True)"
   ]
  },
  {
   "cell_type": "code",
   "execution_count": 64,
   "metadata": {
    "collapsed": false
   },
   "outputs": [],
   "source": [
    "us_categroy_dict_sorted=sorted(parsed_us_dict.items(), key=operator.itemgetter(1), reverse=True)"
   ]
  },
  {
   "cell_type": "code",
   "execution_count": 66,
   "metadata": {
    "collapsed": false
   },
   "outputs": [
    {
     "ename": "TypeError",
     "evalue": "'str' object cannot be interpreted as an integer",
     "output_type": "error",
     "traceback": [
      "\u001b[1;31m---------------------------------------------------------------------------\u001b[0m",
      "\u001b[1;31mTypeError\u001b[0m                                 Traceback (most recent call last)",
      "\u001b[1;32m<ipython-input-66-75b1ebcceb47>\u001b[0m in \u001b[0;36m<module>\u001b[1;34m()\u001b[0m\n\u001b[1;32m----> 1\u001b[1;33m \u001b[0mus_categroy_dict_sorted\u001b[0m\u001b[1;33m.\u001b[0m\u001b[0mpop\u001b[0m\u001b[1;33m(\u001b[0m\u001b[1;34m'nan'\u001b[0m\u001b[1;33m)\u001b[0m\u001b[1;33m\u001b[0m\u001b[0m\n\u001b[0m",
      "\u001b[1;31mTypeError\u001b[0m: 'str' object cannot be interpreted as an integer"
     ]
    }
   ],
   "source": [
    "us_categroy_dict_sorted.pop('nan')"
   ]
  },
  {
   "cell_type": "code",
   "execution_count": null,
   "metadata": {
    "collapsed": true
   },
   "outputs": [],
   "source": []
  }
 ],
 "metadata": {
  "anaconda-cloud": {},
  "kernelspec": {
   "display_name": "Python [Root]",
   "language": "python",
   "name": "Python [Root]"
  },
  "language_info": {
   "codemirror_mode": {
    "name": "ipython",
    "version": 3
   },
   "file_extension": ".py",
   "mimetype": "text/x-python",
   "name": "python",
   "nbconvert_exporter": "python",
   "pygments_lexer": "ipython3",
   "version": "3.5.2"
  }
 },
 "nbformat": 4,
 "nbformat_minor": 0
}
