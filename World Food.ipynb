{
 "cells": [
  {
   "cell_type": "code",
   "execution_count": 1,
   "metadata": {
    "collapsed": false
   },
   "outputs": [],
   "source": [
    "import sys\n",
    "import os\n",
    "import re\n",
    "import operator\n",
    "import pandas as pd\n",
    "import numpy as np\n",
    "import matplotlib.pyplot as plt\n",
    "from collections import defaultdict\n",
    "\n",
    "%matplotlib inline"
   ]
  },
  {
   "cell_type": "code",
   "execution_count": 90,
   "metadata": {
    "collapsed": true
   },
   "outputs": [],
   "source": [
    "# Returns a list of sugar counts if the country is in the tag\n",
    "def return_sugars(df, country):\n",
    "    sugar_index = df.columns.get_loc('sugars_100g')\n",
    "    country_index = df.columns.get_loc('countries_tags')\n",
    "    return [row[sugar_index] for index, row in df.iterrows() if country in row[country_index]]\n",
    "\n",
    "def return_category_tags(df, country):\n",
    "    product_index = df.columns.get_loc('categories_en')\n",
    "    country_index = df.columns.get_loc('countries_tags')\n",
    "    return [row[product_index] for index, row in df.iterrows() if country in row[country_index]]\n",
    "\n",
    "def parse_category(list_of_category):\n",
    "    categorized_dict = defaultdict(int)\n",
    "    for category_list in list_of_category:\n",
    "        for category in str(category_list).split(\",\"):\n",
    "            categorized_dict[category] += 1\n",
    "    return categorized_dict\n",
    "\n",
    "def condense_food_dictionary(raw_dict):\n",
    "    pass\n",
    "    "
   ]
  },
  {
   "cell_type": "code",
   "execution_count": 3,
   "metadata": {
    "collapsed": false
   },
   "outputs": [
    {
     "name": "stdout",
     "output_type": "stream",
     "text": [
      "Data loaded. There are 65503 rows\n"
     ]
    },
    {
     "name": "stderr",
     "output_type": "stream",
     "text": [
      "C:\\Users\\dsharp\\AppData\\Local\\Continuum\\Anaconda3\\lib\\site-packages\\IPython\\core\\interactiveshell.py:2723: DtypeWarning: Columns (0,3,5,27,36) have mixed types. Specify dtype option on import or set low_memory=False.\n",
      "  interactivity=interactivity, compiler=compiler, result=result)\n"
     ]
    }
   ],
   "source": [
    "# Just the data reading step. I check if the path for the file exist, and if so, ready the data from the file\n",
    "data_directory = os.getcwd()\n",
    "data_path = 'data\\world-food-facts\\FoodFacts.csv'\n",
    "data_path = os.path.join(data_directory, data_path)\n",
    "\n",
    "if os.path.exists(data_path): \n",
    "    world_food_facts = pd.read_csv(data_path)\n",
    "    world_food_facts.countries = world_food_facts.countries.str.lower()\n",
    "    print(\"Data loaded. There are {} rows\".format(world_food_facts.shape[0]))\n",
    "else:\n",
    "    print(\"Error: source data location: {} does not exist\".format(data_path))"
   ]
  },
  {
   "cell_type": "code",
   "execution_count": 4,
   "metadata": {
    "collapsed": false
   },
   "outputs": [
    {
     "data": {
      "text/plain": [
       "'After removing rows where countries_tags and sugars_100g columns are null, there are 32611 rows'"
      ]
     },
     "execution_count": 4,
     "metadata": {},
     "output_type": "execute_result"
    }
   ],
   "source": [
    "# For my approach, I need to remove the rows where the countries_tags and sugars_100g are null\n",
    "worlds_sugars = world_food_facts[(world_food_facts.countries_tags.notnull() & world_food_facts.sugars_100g.notnull())]\n",
    "\"After removing rows where countries_tags and sugars_100g columns are null, there are {} rows\".format(len(worlds_sugars))"
   ]
  },
  {
   "cell_type": "code",
   "execution_count": 24,
   "metadata": {
    "collapsed": false
   },
   "outputs": [],
   "source": [
    "country_tags = []\n",
    "for index, item in worlds_sugars.iterrows():\n",
    "    if len(item.countries_tags.split(\",\")) > 1:\n",
    "        for country in (item.countries_tags.split(\",\")):\n",
    "            if \":\" in country and country.split(\":\")[1] not in country_tags:\n",
    "                country_tags.append(country.split(\":\")[1])\n",
    "    else:\n",
    "        if \":\" in country and country.split(\":\")[1] not in country_tags:\n",
    "            country_tags.append(country.split(\":\")[1])"
   ]
  },
  {
   "cell_type": "code",
   "execution_count": 25,
   "metadata": {
    "collapsed": false
   },
   "outputs": [
    {
     "data": {
      "text/plain": [
       "['hong-kong', 'france', 'united-kingdom', 'united-states', 'australia']"
      ]
     },
     "execution_count": 25,
     "metadata": {},
     "output_type": "execute_result"
    }
   ],
   "source": [
    "country_tags[:5]"
   ]
  },
  {
   "cell_type": "code",
   "execution_count": 26,
   "metadata": {
    "collapsed": false
   },
   "outputs": [
    {
     "data": {
      "text/plain": [
       "69"
      ]
     },
     "execution_count": 26,
     "metadata": {},
     "output_type": "execute_result"
    }
   ],
   "source": [
    "len(set(country_tags))"
   ]
  },
  {
   "cell_type": "code",
   "execution_count": 27,
   "metadata": {
    "collapsed": false
   },
   "outputs": [
    {
     "name": "stdout",
     "output_type": "stream",
     "text": [
      "1\n"
     ]
    },
    {
     "data": {
      "text/plain": [
       "0.0"
      ]
     },
     "execution_count": 27,
     "metadata": {},
     "output_type": "execute_result"
    }
   ],
   "source": [
    "num = return_sugars(worlds_sugars, '日本')\n",
    "print(len(num))\n",
    "np.mean(return_sugars(worlds_sugars, '日本'))"
   ]
  },
  {
   "cell_type": "code",
   "execution_count": 32,
   "metadata": {
    "collapsed": true
   },
   "outputs": [],
   "source": [
    "worlds = world_food_facts[world_food_facts.countries_tags.notnull()]"
   ]
  },
  {
   "cell_type": "code",
   "execution_count": 33,
   "metadata": {
    "collapsed": false
   },
   "outputs": [
    {
     "name": "stdout",
     "output_type": "stream",
     "text": [
      "looking for country: hong-kong\n",
      "looking for country: france\n",
      "looking for country: united-kingdom\n",
      "looking for country: united-states\n",
      "looking for country: australia\n",
      "looking for country: new-zealand\n",
      "looking for country: singapore\n",
      "looking for country: thailand\n",
      "looking for country: denmark\n",
      "looking for country: spain\n",
      "looking for country: canada\n",
      "looking for country: quebec\n",
      "looking for country: czech-republic\n",
      "looking for country: indonesia\n",
      "looking for country: italy\n",
      "looking for country: french-guiana\n",
      "looking for country: switzerland\n",
      "looking for country: belgium\n",
      "looking for country: philippines\n",
      "looking for country: europe\n",
      "looking for country: lithuania\n",
      "looking for country: portugal\n",
      "looking for country: germany\n",
      "looking for country: netherlands\n",
      "looking for country: austria\n",
      "looking for country: romania\n",
      "looking for country: scotland\n",
      "looking for country: morocco\n",
      "looking for country: ireland\n",
      "looking for country: guadeloupe\n",
      "looking for country: monaco\n",
      "looking for country: reunion\n",
      "looking for country: luxembourg\n",
      "looking for country: japan\n",
      "looking for country: sweden\n",
      "looking for country: martinique\n",
      "looking for country: new-caledonia\n",
      "looking for country: saint-pierre-and-miquelon\n",
      "looking for country: united-arab-emirates\n",
      "looking for country: algeria\n",
      "looking for country: greece\n",
      "looking for country: poland\n",
      "looking for country: saudi-arabia\n",
      "looking for country: india\n",
      "looking for country: 日本\n",
      "looking for country: taiwan\n",
      "looking for country: thailanda\n",
      "looking for country: egypt\n",
      "looking for country: qatar\n",
      "looking for country: tunisia\n",
      "looking for country: european-union\n",
      "looking for country: slovakia\n",
      "looking for country: iraq\n",
      "looking for country: kuwait\n",
      "looking for country: moldova\n",
      "looking for country: angleterre\n",
      "looking for country: norway\n",
      "looking for country: serbia\n",
      "looking for country: andorra\n",
      "looking for country: bulgaria\n",
      "looking for country: albania\n",
      "looking for country: finland\n",
      "looking for country: hungary\n",
      "looking for country: russia\n",
      "looking for country: slovenia\n",
      "looking for country: turkey\n",
      "looking for country: cambodia\n",
      "looking for country: french-polynesia\n",
      "looking for country: china\n"
     ]
    }
   ],
   "source": [
    "sugar_mean_dic = {}\n",
    "for country in country_tags:\n",
    "    print(\"looking for country: {}\".format(country))\n",
    "    sugar = return_sugars(worlds_sugars, country)\n",
    "    if len(sugar) > 9:\n",
    "        sugar_mean_dic[country] = np.mean(sugar)"
   ]
  },
  {
   "cell_type": "code",
   "execution_count": 34,
   "metadata": {
    "collapsed": false
   },
   "outputs": [
    {
     "data": {
      "text/plain": [
       "dict_keys(['austria', 'czech-republic', 'netherlands', 'europe', 'portugal', 'quebec', 'belgium', 'tunisia', 'australia', 'reunion', 'hong-kong', 'united-kingdom', 'greece', 'thailand', 'denmark', 'romania', 'poland', 'canada', 'french-guiana', 'italy', 'united-states', 'spain', 'france', 'luxembourg', 'guadeloupe', 'saint-pierre-and-miquelon', 'sweden', 'new-zealand', 'switzerland', 'germany', 'martinique'])"
      ]
     },
     "execution_count": 34,
     "metadata": {},
     "output_type": "execute_result"
    }
   ],
   "source": [
    "sugar_mean_dic.keys()"
   ]
  },
  {
   "cell_type": "code",
   "execution_count": 35,
   "metadata": {
    "collapsed": false
   },
   "outputs": [],
   "source": [
    "sugar_mean_sorted_list = sorted(sugar_mean_dic.items(), key=operator.itemgetter(1))"
   ]
  },
  {
   "cell_type": "code",
   "execution_count": 36,
   "metadata": {
    "collapsed": false
   },
   "outputs": [],
   "source": [
    "sugar_mean_sorted_list.reverse()"
   ]
  },
  {
   "cell_type": "code",
   "execution_count": 37,
   "metadata": {
    "collapsed": false
   },
   "outputs": [
    {
     "name": "stdout",
     "output_type": "stream",
     "text": [
      "tunisia\n",
      "quebec\n"
     ]
    }
   ],
   "source": [
    "for country in sugar_mean_sorted_list[:2]:\n",
    "    print(country[0])"
   ]
  },
  {
   "cell_type": "code",
   "execution_count": 38,
   "metadata": {
    "collapsed": false
   },
   "outputs": [],
   "source": [
    "country_list = [pair[0] for pair in sugar_mean_sorted_list]\n",
    "sugar_list = [pair[1] for pair in sugar_mean_sorted_list]"
   ]
  },
  {
   "cell_type": "code",
   "execution_count": 79,
   "metadata": {
    "collapsed": false
   },
   "outputs": [
    {
     "data": {
      "image/png": "[encoded data removed]",
      "text/plain": [
       "<matplotlib.figure.Figure at 0xfc8e70>"
      ]
     },
     "metadata": {},
     "output_type": "display_data"
    }
   ],
   "source": [
    "y_pos = np.arange((len(country_list[:10])))\n",
    "plt.bar(y_pos, sugar_list[:10], align='center', alpha=0.5)\n",
    "plt.title('Average total sugar content per 100g')\n",
    "plt.xticks(y_pos, country_list[:10])\n",
    "plt.ylabel('Sugar/100g')\n",
    "plt.show()"
   ]
  },
  {
   "cell_type": "code",
   "execution_count": 40,
   "metadata": {
    "collapsed": false
   },
   "outputs": [
    {
     "data": {
      "text/plain": [
       "'tunisia'"
      ]
     },
     "execution_count": 40,
     "metadata": {},
     "output_type": "execute_result"
    }
   ],
   "source": [
    "country_list[0]"
   ]
  },
  {
   "cell_type": "code",
   "execution_count": 44,
   "metadata": {
    "collapsed": false
   },
   "outputs": [],
   "source": [
    "country_products = return_category_tags(worlds_sugars, country_list[0])"
   ]
  },
  {
   "cell_type": "code",
   "execution_count": 42,
   "metadata": {
    "collapsed": false
   },
   "outputs": [
    {
     "data": {
      "text/plain": [
       "'tunisia'"
      ]
     },
     "execution_count": 42,
     "metadata": {},
     "output_type": "execute_result"
    }
   ],
   "source": [
    "country_list[0]"
   ]
  },
  {
   "cell_type": "code",
   "execution_count": 66,
   "metadata": {
    "collapsed": false
   },
   "outputs": [],
   "source": [
    "from collections import defaultdict\n",
    "\n",
    "type_dic = defaultdict(int)\n",
    "for product in country_products:\n",
    "    for type in str(product).split(\",\"):\n",
    "        type_dic[type] += 1\n",
    "    "
   ]
  },
  {
   "cell_type": "code",
   "execution_count": 68,
   "metadata": {
    "collapsed": false
   },
   "outputs": [],
   "source": [
    "country_product = []\n",
    "for country in country_list:\n",
    "    country_product.append(return_category_tags(worlds_sugars, country))"
   ]
  },
  {
   "cell_type": "code",
   "execution_count": 71,
   "metadata": {
    "collapsed": false
   },
   "outputs": [],
   "source": [
    "all_type_dic = defaultdict(int)\n",
    "for product_list in country_product:\n",
    "    for product in product_list:\n",
    "        for type in str(product).split(\",\"):\n",
    "            all_type_dic[type] += 1"
   ]
  },
  {
   "cell_type": "code",
   "execution_count": 87,
   "metadata": {
    "collapsed": false
   },
   "outputs": [],
   "source": [
    "us_category_list = return_category_tags(worlds_sugars, country_list[10])"
   ]
  },
  {
   "cell_type": "code",
   "execution_count": 92,
   "metadata": {
    "collapsed": false
   },
   "outputs": [],
   "source": [
    "parsed_us_dict = parse_category(us_category_list)"
   ]
  },
  {
   "cell_type": "code",
   "execution_count": 93,
   "metadata": {
    "collapsed": false
   },
   "outputs": [],
   "source": [
    "a = sorted(all_type_dic.items(), key=operator.itemgetter(1), reverse=True)"
   ]
  },
  {
   "cell_type": "code",
   "execution_count": 96,
   "metadata": {
    "collapsed": false
   },
   "outputs": [
    {
     "name": "stdout",
     "output_type": "stream",
     "text": [
      "('Pasta sauces', 19)\n",
      "('Corn flakes', 4)\n",
      "('Fruit-and-nut-mix', 1)\n",
      "('Syrups', 10)\n",
      "('Meats', 21)\n",
      "('Green curry pastes', 1)\n",
      "('Kombucha', 1)\n",
      "('Trail-mix', 1)\n",
      "('Cereal flakes', 12)\n",
      "('Canned foods', 30)\n",
      "('Pizzas-surgelees', 1)\n",
      "('Fruits and vegetables based foods', 26)\n",
      "('Salad dressings', 16)\n",
      "('Pastas', 37)\n",
      "('Vegetable juices', 6)\n",
      "('Peanuts', 1)\n",
      "('Plant-based foods and beverages', 223)\n",
      "('Canned sardines', 2)\n",
      "('Protein bars', 3)\n",
      "('Balsamic-vinaigrette', 1)\n",
      "('Chia', 1)\n",
      "('Animal fats', 1)\n",
      "('Canned-precooked-meat', 3)\n",
      "('Balsamic-vinaigrette-dressing', 1)\n",
      "('Diet-colas', 1)\n",
      "('Noodles', 22)\n",
      "('Corn oils', 1)\n",
      "('The-original-ranch', 1)\n",
      "('Prepared meats', 11)\n",
      "('Fruit-based beverages', 29)\n",
      "('Toppings', 1)\n",
      "('Spreads', 40)\n",
      "('Balsamic-vinegar-of-modena', 1)\n",
      "('Honeys', 5)\n",
      "('Salty snacks', 65)\n",
      "('Mueslis', 4)\n",
      "('Peanut-butter-and-chocolat-chip-cereal-bar', 1)\n",
      "('White chocolates', 2)\n",
      "('fr:Nouilles-asiatiques', 1)\n",
      "('Italian-dressing', 1)\n",
      "('Crisps', 18)\n",
      "('Bonbons', 4)\n",
      "('Frozen pizzas', 7)\n",
      "('Dairies', 106)\n",
      "('Goat cheese', 1)\n",
      "('Bodybuilding supplements', 7)\n",
      "('Cheeses from Switzerland', 2)\n",
      "('Monterey-jack', 3)\n",
      "('Bars', 29)\n",
      "('Fruit juices', 24)\n",
      "('Box-meal', 1)\n",
      "('Confectioneries', 42)\n",
      "('Rice pasta', 1)\n",
      "('Beef', 2)\n",
      "('Fruit sodas', 3)\n",
      "('Potato-crips', 5)\n",
      "('Dried meals', 2)\n",
      "('Dark chocolates', 19)\n",
      "('fr:Pancakes-and-waffles', 1)\n",
      "('Sugared beverages', 42)\n",
      "('Unsalted-butter', 1)\n",
      "('Creamy-peanut-butter', 3)\n",
      "('Chili peppers', 1)\n",
      "('Vanilla-coconut-milk', 1)\n",
      "('Smoked fishes', 1)\n",
      "('Energy bars', 6)\n",
      "('Shrimps', 2)\n",
      "('Carbonated-sodas', 1)\n",
      "('Protein shakes', 1)\n",
      "('Cereals and potatoes', 132)\n",
      "('Condiments', 8)\n",
      "('Ginger-ales', 1)\n",
      "('Apples', 1)\n",
      "('Genoa-salami', 1)\n",
      "('Meat analogues', 1)\n",
      "('Breakfasts', 72)\n",
      "('Grapefruit juices', 2)\n",
      "('Chocolate-chip-cookies', 2)\n",
      "('Asian-sauces', 1)\n",
      "('Sweeteners', 13)\n",
      "('Hamburgers', 1)\n",
      "('Pickles', 1)\n",
      "('Cheddar cheese', 3)\n",
      "('Oat flakes', 2)\n",
      "('Buns', 1)\n",
      "('Tonic-water', 1)\n",
      "('Plant-based spreads', 3)\n",
      "('Dried plant-based foods', 2)\n",
      "('Camembert-cheese', 1)\n",
      "('Breakfast-biscuit', 1)\n",
      "('Cashews', 2)\n",
      "('Mixed cereal flakes', 4)\n",
      "('Concentrated apple juices', 1)\n",
      "('Sugars', 1)\n",
      "('Flours', 1)\n",
      "('Puddings', 2)\n",
      "('Wing-sauce', 1)\n",
      "('Canned fishes', 4)\n",
      "('Diet beverages', 2)\n",
      "('Legumes', 1)\n",
      "('Carob', 1)\n",
      "('fr:Cuisine-asiatique', 1)\n",
      "('Oils', 2)\n",
      "('Hummus', 1)\n",
      "('Squeezed apple juices', 1)\n",
      "('Rices', 3)\n",
      "('Baked-goods', 2)\n",
      "('Roasted-cashews', 1)\n",
      "('Juices and nectars', 29)\n",
      "('Concentrated grapefruit juices', 2)\n",
      "('Flavoured syrups', 3)\n",
      "('Teas', 5)\n",
      "('Cereals and their products', 118)\n",
      "('Milks', 40)\n",
      "('Canned plant-based foods', 17)\n",
      "('Mixed-nuts', 1)\n",
      "('Mozzarella', 1)\n",
      "('Apple-juice-from-concentrate', 1)\n",
      "('Canned white common beans', 1)\n",
      "('Peppercorn-ranch-dressing', 1)\n",
      "('Orange juices', 10)\n",
      "('Candy-bars', 1)\n",
      "('Ice cream tubs', 2)\n",
      "('Carbonated waters', 5)\n",
      "('Breakfast cereals', 44)\n",
      "('Potato crisps', 12)\n",
      "('Poultry meals', 1)\n",
      "('Frozen ready-made meals', 2)\n",
      "('Biscuits-et-gateaux', 5)\n",
      "('Carbonated drinks', 41)\n",
      "('Canned fruits', 2)\n",
      "('Cake-mix', 2)\n",
      "('Pancakes-and-waffles', 1)\n",
      "('Hot sauces', 1)\n",
      "('Cornbread-mix', 1)\n",
      "('Blueberry-muffin', 1)\n",
      "('Pretzel', 5)\n",
      "('Oilseed purees', 18)\n",
      "('Cocoa and hazelnuts spreads', 5)\n",
      "('Pork', 6)\n",
      "('Cow Cheeses', 3)\n",
      "('Canned vegetables', 8)\n",
      "('Cornbread', 1)\n",
      "('Barbecue sauces', 10)\n",
      "('Frosted-cereal', 1)\n",
      "('Poultries', 6)\n",
      "('Tofu', 1)\n",
      "('Green pitted olives', 1)\n",
      "('Wafers', 2)\n",
      "('Hot beverages', 7)\n",
      "('Pizzas-tartes-salees-et-quiches', 1)\n",
      "('Chips and fries', 18)\n",
      "('Prosciutto', 2)\n",
      "('Herbal teas', 6)\n",
      "('Cookies', 47)\n",
      "('Sardines', 2)\n",
      "('Pestos', 1)\n",
      "('Capers', 1)\n",
      "('Sandwiches', 1)\n",
      "('Fresh vegetables', 1)\n",
      "('Chocolate-milk', 5)\n",
      "('Misos', 1)\n",
      "('Pizzas', 3)\n",
      "('Chews', 1)\n",
      "('Fruit preserves', 1)\n",
      "('Legume butters', 18)\n",
      "('Peanut butters', 18)\n",
      "('Blackberries-in-syrup', 1)\n",
      "('Liquorice', 1)\n",
      "('Canned tomatoes', 3)\n",
      "('Cereal milks', 1)\n",
      "('Salted spreads', 2)\n",
      "('Squeezed orange juices', 3)\n",
      "('Greek yogurts', 12)\n",
      "('Steak-sauce', 1)\n",
      "('Soups', 13)\n",
      "('Meals', 26)\n",
      "('Blueberry-yogurt', 1)\n",
      "('Chickens', 2)\n",
      "('Hot-fudge', 1)\n",
      "('Sliced breads', 2)\n",
      "('Smoked salmons', 1)\n",
      "('Pastries', 3)\n",
      "('Spice Mix', 4)\n",
      "('Desserts', 18)\n",
      "('Chocolate ice cream tubs', 2)\n",
      "('Maple syrups', 7)\n",
      "('Goat-yogurt', 1)\n",
      "('Caesar-sauce', 1)\n",
      "('Hidden-valley', 1)\n",
      "('Legume milks', 4)\n",
      "('Breads', 14)\n",
      "('Marshmallows', 1)\n",
      "('Salted butters', 1)\n",
      "('Balsamic vinegars', 1)\n",
      "('Canned common beans', 6)\n",
      "('Refrigerated squeezed juices', 1)\n",
      "('Wheat flakes', 2)\n",
      "('Cereal bars', 2)\n",
      "('Bison', 1)\n",
      "('Frozen foods', 18)\n",
      "('Bologna', 2)\n",
      "('Tomato pastes', 2)\n",
      "('Wholegrains', 1)\n",
      "('Turkeys', 4)\n",
      "('Raw-honey', 1)\n",
      "('Plant milks', 13)\n",
      "('Soy milks', 4)\n",
      "('Hamburger buns', 1)\n",
      "('Butters', 1)\n",
      "('Lemon-curd', 1)\n",
      "('Candies', 40)\n",
      "('Berries', 1)\n",
      "('Flavoured yogurts', 1)\n",
      "('Non-Alcoholic beverages', 24)\n",
      "('Mineral waters', 4)\n",
      "('Fruits', 5)\n",
      "('Jams', 1)\n",
      "('Rice-candy', 1)\n",
      "('Fruit juices and nectars', 24)\n",
      "('Biscuits and cakes', 65)\n",
      "('Kettle-cooked-chips', 3)\n",
      "('Pancakes', 1)\n",
      "('Mushrooms and their products', 2)\n",
      "('Nut milks', 5)\n",
      "('Spices', 6)\n",
      "('Hot-cocoa-mix', 1)\n",
      "('Cereal grains', 5)\n",
      "('Beef-broth', 1)\n",
      "('Iced teas', 4)\n",
      "('Lamb meat', 1)\n",
      "('Ice creams', 6)\n",
      "('Fruit and fruit seed oils', 2)\n",
      "('Hot-dogs', 1)\n",
      "('Fruit yogurts', 5)\n",
      "('Rice flakes', 1)\n",
      "('Breakfast-biscuits', 1)\n",
      "('Cactus', 1)\n",
      "('Nuts and their products', 32)\n",
      "('Popping-corn', 1)\n",
      "('Donuts', 1)\n",
      "('Extra-virgin olive oils', 1)\n",
      "('Muffin', 1)\n",
      "('Waffles', 4)\n",
      "('Pecans', 1)\n",
      "('Pizzas-et-tartes-surgelees', 1)\n",
      "('Vegetable broths', 1)\n",
      "('Cheeses from England', 3)\n",
      "('Milk chocolates', 15)\n",
      "('Asian-foods', 2)\n",
      "('Chocolate cookies', 14)\n",
      "('Canned-meat', 1)\n",
      "('Thai-foods', 1)\n",
      "('Tortillas', 1)\n",
      "('Chocolates', 47)\n",
      "('Crustaceans', 2)\n",
      "('Bruschetta', 2)\n",
      "('Crackers', 32)\n",
      "('Coffees', 1)\n",
      "('Dried products to be rehydrated', 2)\n",
      "('Concentrated fruit juices', 7)\n",
      "('Salsa', 4)\n",
      "('Tomato juices', 1)\n",
      "('White-quinoa', 1)\n",
      "('Frozen meats', 1)\n",
      "('Stuffing', 1)\n",
      "('Rice milks', 1)\n",
      "('Lemonades', 9)\n",
      "('Salad-sauce', 1)\n",
      "('Applesauces', 1)\n",
      "('Chocolate bars', 2)\n",
      "('Olive tree products', 4)\n",
      "('nan', 176)\n",
      "('Seafood', 10)\n",
      "('Ice creams and sorbets', 6)\n",
      "('Liquid vegetable bouillons', 1)\n",
      "('Processed cheese', 1)\n",
      "('Brussels sprouts', 1)\n",
      "('Waters', 7)\n",
      "('Guacamoles', 2)\n",
      "('Salmons', 3)\n",
      "('Bird eggs', 3)\n",
      "('Fat-free-milk', 2)\n",
      "('Precooked-meat', 4)\n",
      "('Chocolate biscuits', 15)\n",
      "('Epicerie', 1)\n",
      "('Cookies with chocolate and coconut', 1)\n",
      "('Flavoured milks', 2)\n",
      "('Groceries', 109)\n",
      "('Almonds', 5)\n",
      "('Fruits in syrup', 2)\n",
      "('Plant-based meals', 1)\n",
      "('Sausages', 6)\n",
      "('Sweet spreads', 17)\n",
      "('Diet sodas', 2)\n",
      "('Chocolate spreads', 5)\n",
      "('Italian cheeses', 1)\n",
      "('Lemon teas', 1)\n",
      "('Concentrated multifruit juices', 3)\n",
      "('Tomato sauces', 21)\n",
      "('Muffins', 2)\n",
      "('Fruit jams', 1)\n",
      "('Juices', 5)\n",
      "('Reduced-fat-milk', 3)\n",
      "('fr:Nouilles-orientales', 1)\n",
      "('Plant-based beverages', 47)\n",
      "('Raisins', 2)\n",
      "('Mashed-potatoes', 1)\n",
      "('Sugary-sancks', 1)\n",
      "('Falafel', 1)\n",
      "('Sweet potato crisps', 1)\n",
      "('Almond milks', 5)\n",
      "('Canned corn', 2)\n",
      "('fr:Pâtes à tartiner', 11)\n",
      "('Chocolate-with-raspberries', 1)\n",
      "('Sauces', 99)\n",
      "('Pizzas pies and quiches', 3)\n",
      "('Cakes', 5)\n",
      "('Pancake-mix', 1)\n",
      "('Cashew nuts', 1)\n",
      "('Purified-water', 1)\n",
      "('Muffin-mix', 1)\n",
      "('Corn chips', 4)\n",
      "('Chocolate-mints', 1)\n",
      "('Hams', 3)\n",
      "('Apple juices', 5)\n",
      "('Fruit-spreads', 1)\n",
      "('Brownie', 1)\n",
      "('Vegetable fats', 6)\n",
      "('Mix', 1)\n",
      "('Vegetable-based beverages', 6)\n",
      "('Concentrated orange juices', 1)\n",
      "('Coconut milks', 3)\n",
      "('Dietary supplements', 7)\n",
      "('Hot-cocoa-powder', 1)\n",
      "('Chowders', 1)\n",
      "('Quinoa', 1)\n",
      "('Milk-chocolate-filled-with-caramel', 1)\n",
      "('Squeezed juices', 4)\n",
      "('Chips', 5)\n",
      "('Hazelnut spreads', 5)\n",
      "('Egg-free mayonnaises', 1)\n",
      "('Marshmallow-creme', 1)\n",
      "('fr:Saucissons', 2)\n",
      "('Plats-prepares-surgeles', 1)\n",
      "('Mustards', 1)\n",
      "('Whole-grain', 1)\n",
      "('Surgeles', 1)\n",
      "('Cookies with milk chocolate', 3)\n",
      "('Raspberry-preserve', 1)\n",
      "('Diced-tomatoes', 1)\n",
      "('Canned mushrooms', 2)\n",
      "('Toaster-pastries', 1)\n",
      "('Canned legumes', 6)\n",
      "('Tomato-soups', 1)\n",
      "('Breakfast-granola', 1)\n",
      "('Pitted olives', 1)\n",
      "('Flakes', 12)\n",
      "('Plant-based foods', 223)\n",
      "('Chocolate-chips', 1)\n",
      "('Meals with meat', 2)\n",
      "('Sodas', 34)\n",
      "('Grape-juice-drink', 1)\n",
      "('Broths', 3)\n",
      "('Apple compotes', 1)\n",
      "('Appetizers', 53)\n",
      "('Beverages', 112)\n",
      "('Dried fruits', 2)\n",
      "('Milkfat', 1)\n",
      "('Whole-turkeys', 1)\n",
      "('Biscuits', 57)\n",
      "('Green olives', 1)\n",
      "('Cured-meat', 1)\n",
      "('Basil-and-garlic-tomato-sauce', 1)\n",
      "('Canned cheeses', 1)\n",
      "('Blueberries', 1)\n",
      "('Cheesecakes', 1)\n",
      "('Strawberry jams', 1)\n",
      "('Cheeses from the United Kingdom', 3)\n",
      "('Grapes', 1)\n",
      "('Fresh plant-based foods', 1)\n",
      "('Multifruit juices', 5)\n",
      "('Nut butters', 18)\n",
      "('Carbonated mineral waters', 1)\n",
      "('Grain-products', 4)\n",
      "('Garlic-mashed-potatoes', 1)\n",
      "('Red pestos', 1)\n",
      "('Skim-milk', 1)\n",
      "('Coconut oils', 2)\n",
      "('Artificially sweetened beverages', 5)\n",
      "('Lasagne', 1)\n",
      "('Ketchup', 19)\n",
      "('Coconut-creams', 1)\n",
      "('Fishes', 7)\n",
      "('Spreadable fats', 3)\n",
      "('Yogurts', 37)\n",
      "('Tomatoes and tomato products', 6)\n",
      "('Cheese spreads', 1)\n",
      "('Sugary-sncks', 1)\n",
      "('Refrigerated squeezed orange juices', 1)\n",
      "('Snack', 1)\n",
      "('Energy drinks', 1)\n",
      "('Snacks', 14)\n",
      "('Farming products', 8)\n",
      "('English muffins', 1)\n",
      "('Frozen pizzas and pies', 7)\n",
      "('Seeds', 7)\n",
      "('Colas', 8)\n",
      "('Vegetables based foods', 12)\n",
      "('Cheeses', 28)\n",
      "('Strawberry-preserves', 2)\n",
      "('Canned cereals', 2)\n",
      "('Pasteurized cheeses', 1)\n",
      "('Pistachios', 1)\n",
      "('Sugary snacks', 185)\n",
      "('Fruit-snacks', 2)\n",
      "('Nuts', 13)\n",
      "('Grade-aa-eggs', 2)\n",
      "('Fresh foods', 1)\n",
      "('Popcorn', 4)\n",
      "('Mayonnaises', 10)\n",
      "('Soymilk', 1)\n",
      "('Sweet-olives', 1)\n",
      "('Whole-wheat-crackers', 1)\n",
      "('Instant noodles', 21)\n",
      "('Fruits based foods', 13)\n",
      "('Whole milks', 1)\n",
      "('Special breads', 2)\n",
      "('Plant-based pickles', 1)\n",
      "('Vegetable oils', 6)\n",
      "('Chocolates with almonds', 5)\n",
      "('Plats-prepares', 1)\n",
      "('Curry pastes', 4)\n",
      "('Baked-beans', 1)\n",
      "('Low-fat yogurts', 17)\n",
      "('fr:Soupes-de-nouilles', 1)\n",
      "('Canned salmons', 1)\n",
      "('Waffle-mix', 1)\n",
      "('Fruit-drinks', 1)\n",
      "('Buttermilk-ranch-dressing', 1)\n",
      "('Canned meals', 7)\n",
      "('Microwave meals', 5)\n",
      "('Vinegars', 1)\n",
      "('Snacks-sucres', 5)\n",
      "('fr:Relishes', 1)\n",
      "('fr:Cremes-de-coco', 1)\n",
      "('Salami', 2)\n",
      "('Vegetable soups', 1)\n",
      "('Tea-drinks', 4)\n",
      "('Olive oils', 3)\n",
      "('Cereal oils', 1)\n",
      "('Dried products', 4)\n",
      "('Sponge-cakes', 1)\n",
      "('Legumes and their products', 31)\n",
      "('Potato crisps in sunflower oil', 4)\n",
      "('Coconut-cream', 1)\n",
      "('Juice-drinks', 1)\n",
      "('Bee products', 5)\n",
      "('Dehydrated soups', 2)\n",
      "('Eggs', 3)\n",
      "('Thousand-island-dressing', 2)\n",
      "('Non-sugared beverages', 50)\n",
      "('Juice-beverage', 1)\n",
      "('Fats', 7)\n",
      "('Liquid broths', 2)\n",
      "('Frozen fishes', 1)\n",
      "('Tortilla-chips', 5)\n",
      "('Cherries in syrup', 1)\n",
      "('Salsa-chips', 1)\n",
      "('Fruit sauces', 1)\n",
      "('Frozen desserts', 8)\n",
      "('Simple syrups', 7)\n",
      "('Olives', 1)\n",
      "('fr:Produits-sous-licence', 1)\n",
      "('Sparkling-mineral-water', 4)\n",
      "('Berry jams', 1)\n"
     ]
    }
   ],
   "source": [
    "for item in parsed_us_dict.items():\n",
    "    print(item)"
   ]
  },
  {
   "cell_type": "code",
   "execution_count": null,
   "metadata": {
    "collapsed": true
   },
   "outputs": [],
   "source": []
  }
 ],
 "metadata": {
  "anaconda-cloud": {},
  "kernelspec": {
   "display_name": "Python [Root]",
   "language": "python",
   "name": "Python [Root]"
  },
  "language_info": {
   "codemirror_mode": {
    "name": "ipython",
    "version": 3
   },
   "file_extension": ".py",
   "mimetype": "text/x-python",
   "name": "python",
   "nbconvert_exporter": "python",
   "pygments_lexer": "ipython3",
   "version": "3.5.2"
  }
 },
 "nbformat": 4,
 "nbformat_minor": 0
}
