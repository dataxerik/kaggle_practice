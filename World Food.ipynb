{
 "cells": [
  {
   "cell_type": "code",
   "execution_count": 243,
   "metadata": {
    "collapsed": false
   },
   "outputs": [],
   "source": [
    "import sys\n",
    "import os\n",
    "import re\n",
    "import operator\n",
    "import pandas as pd\n",
    "import numpy as np\n",
    "import matplotlib.pyplot as plt\n",
    "\n",
    "%matplotlib inline"
   ]
  },
  {
   "cell_type": "code",
   "execution_count": 249,
   "metadata": {
    "collapsed": true
   },
   "outputs": [],
   "source": [
    "# Returns a list of sugar counts if the country is in the tag\n",
    "def return_sugars(df, country):\n",
    "    sugar_index = df.columns.get_loc('sugars_100g')\n",
    "    country_index = df.columns.get_loc('countries_tags')\n",
    "    return [row[sugar_index] for index, row in df.iterrows() if country in row[country_index]]\n",
    "\n",
    "def return_category_tags(df, country):\n",
    "    product_index = df.columns.get_loc('categories_en')\n",
    "    country_index = df.columns.get_loc('countries_tags')\n",
    "    return [row[product_index] for index, row in df.iterrows() if country in row[country_index]]"
   ]
  },
  {
   "cell_type": "code",
   "execution_count": 4,
   "metadata": {
    "collapsed": false
   },
   "outputs": [
    {
     "name": "stdout",
     "output_type": "stream",
     "text": [
      "Data loaded. There are 65503 rows\n"
     ]
    },
    {
     "name": "stderr",
     "output_type": "stream",
     "text": [
      "C:\\Users\\dsharp\\AppData\\Local\\Continuum\\Anaconda3\\lib\\site-packages\\IPython\\core\\interactiveshell.py:2723: DtypeWarning: Columns (0,3,5,27,36) have mixed types. Specify dtype option on import or set low_memory=False.\n",
      "  interactivity=interactivity, compiler=compiler, result=result)\n"
     ]
    }
   ],
   "source": [
    "# Just the data reading step. I check if the path for the file exist, and if so, ready the data from the file\n",
    "data_directory = os.getcwd()\n",
    "data_path = 'data\\world-food-facts\\FoodFacts.csv'\n",
    "data_path = os.path.join(data_directory, data_path)\n",
    "\n",
    "if os.path.exists(data_path): \n",
    "    world_food_facts = pd.read_csv(data_path)\n",
    "    world_food_facts.countries = world_food_facts.countries.str.lower()\n",
    "    print(\"Data loaded. There are {} rows\".format(world_food_facts.shape[0]))\n",
    "else:\n",
    "    print(\"Error: source data location: {} does not exist\".format(data_path))"
   ]
  },
  {
   "cell_type": "code",
   "execution_count": 138,
   "metadata": {
    "collapsed": false
   },
   "outputs": [
    {
     "data": {
      "text/plain": [
       "'After removing rows where countries_tags and sugar_100g columns are null, there are 32611'"
      ]
     },
     "execution_count": 138,
     "metadata": {},
     "output_type": "execute_result"
    }
   ],
   "source": [
    "# For my approach, I need to remove the rows where the countries_tags and sugars_100g are null\n",
    "worlds_sugars = world_food_facts[(world_food_facts.countries_tags.notnull() & world_food_facts.sugars_100g.notnull())]\n",
    "\"After removing rows where countries_tags and sugars_100g columns are null, there are {} rows\".format(len(worlds_sugars))"
   ]
  },
  {
   "cell_type": "code",
   "execution_count": 222,
   "metadata": {
    "collapsed": false
   },
   "outputs": [],
   "source": [
    "country_tags = []\n",
    "for index, item in worlds_sugars.iterrows():\n",
    "    if len(item[tag_index].split(\",\")) > 1:\n",
    "        for country in (item[tag_index].split(\",\")):\n",
    "            if \":\" in country and country.split(\":\")[1] not in country_tags:\n",
    "                country_tags.append(country.split(\":\")[1])\n",
    "    else:\n",
    "        if \":\" in country and country.split(\":\")[1] not in country_tags:\n",
    "            country_tags.append(country.split(\":\")[1])"
   ]
  },
  {
   "cell_type": "code",
   "execution_count": 223,
   "metadata": {
    "collapsed": false
   },
   "outputs": [
    {
     "data": {
      "text/plain": [
       "['france', 'united-kingdom', 'united-states', 'australia', 'new-zealand']"
      ]
     },
     "execution_count": 223,
     "metadata": {},
     "output_type": "execute_result"
    }
   ],
   "source": [
    "country_tags[:5]"
   ]
  },
  {
   "cell_type": "code",
   "execution_count": 224,
   "metadata": {
    "collapsed": false
   },
   "outputs": [
    {
     "data": {
      "text/plain": [
       "69"
      ]
     },
     "execution_count": 224,
     "metadata": {},
     "output_type": "execute_result"
    }
   ],
   "source": [
    "len(set(country_tags))"
   ]
  },
  {
   "cell_type": "code",
   "execution_count": 225,
   "metadata": {
    "collapsed": false
   },
   "outputs": [
    {
     "name": "stdout",
     "output_type": "stream",
     "text": [
      "1\n"
     ]
    },
    {
     "data": {
      "text/plain": [
       "0.0"
      ]
     },
     "execution_count": 225,
     "metadata": {},
     "output_type": "execute_result"
    }
   ],
   "source": [
    "num = return_sugars(worlds_sugars, '日本')\n",
    "print(len(num))\n",
    "np.mean(return_sugars(worlds_sugars, '日本'))"
   ]
  },
  {
   "cell_type": "code",
   "execution_count": 149,
   "metadata": {
    "collapsed": true
   },
   "outputs": [],
   "source": [
    "worlds = world_food_facts[world_food_facts.countries_tags.notnull()]"
   ]
  },
  {
   "cell_type": "code",
   "execution_count": 234,
   "metadata": {
    "collapsed": false
   },
   "outputs": [
    {
     "name": "stdout",
     "output_type": "stream",
     "text": [
      "looking for country: france\n",
      "looking for country: united-kingdom\n",
      "looking for country: united-states\n",
      "looking for country: australia\n",
      "looking for country: new-zealand\n",
      "looking for country: singapore\n",
      "looking for country: thailand\n",
      "looking for country: denmark\n",
      "looking for country: spain\n",
      "looking for country: canada\n",
      "looking for country: quebec\n",
      "looking for country: czech-republic\n",
      "looking for country: indonesia\n",
      "looking for country: italy\n",
      "looking for country: french-guiana\n",
      "looking for country: switzerland\n",
      "looking for country: belgium\n",
      "looking for country: philippines\n",
      "looking for country: europe\n",
      "looking for country: lithuania\n",
      "looking for country: portugal\n",
      "looking for country: germany\n",
      "looking for country: netherlands\n",
      "looking for country: austria\n",
      "looking for country: romania\n",
      "looking for country: scotland\n",
      "looking for country: morocco\n",
      "looking for country: ireland\n",
      "looking for country: guadeloupe\n",
      "looking for country: monaco\n",
      "looking for country: reunion\n",
      "looking for country: luxembourg\n",
      "looking for country: japan\n",
      "looking for country: sweden\n",
      "looking for country: martinique\n",
      "looking for country: new-caledonia\n",
      "looking for country: saint-pierre-and-miquelon\n",
      "looking for country: united-arab-emirates\n",
      "looking for country: algeria\n",
      "looking for country: greece\n",
      "looking for country: poland\n",
      "looking for country: saudi-arabia\n",
      "looking for country: india\n",
      "looking for country: 日本\n",
      "looking for country: taiwan\n",
      "looking for country: thailanda\n",
      "looking for country: egypt\n",
      "looking for country: qatar\n",
      "looking for country: tunisia\n",
      "looking for country: european-union\n",
      "looking for country: slovakia\n",
      "looking for country: iraq\n",
      "looking for country: kuwait\n",
      "looking for country: moldova\n",
      "looking for country: angleterre\n",
      "looking for country: norway\n",
      "looking for country: serbia\n",
      "looking for country: andorra\n",
      "looking for country: bulgaria\n",
      "looking for country: albania\n",
      "looking for country: finland\n",
      "looking for country: hungary\n",
      "looking for country: russia\n",
      "looking for country: slovenia\n",
      "looking for country: turkey\n",
      "looking for country: cambodia\n",
      "looking for country: french-polynesia\n",
      "looking for country: china\n",
      "looking for country: hong-kong\n"
     ]
    }
   ],
   "source": [
    "sugar_mean_dic = {}\n",
    "for country in country_tags:\n",
    "    print(\"looking for country: {}\".format(country))\n",
    "    sugar = return_sugars(worlds_sugars, country)\n",
    "    if len(sugar) > 9:\n",
    "        sugar_mean_dic[country] = np.mean(sugar)"
   ]
  },
  {
   "cell_type": "code",
   "execution_count": 235,
   "metadata": {
    "collapsed": false
   },
   "outputs": [
    {
     "data": {
      "text/plain": [
       "dict_keys(['austria', 'hong-kong', 'italy', 'australia', 'romania', 'greece', 'united-states', 'czech-republic', 'reunion', 'spain', 'canada', 'netherlands', 'poland', 'tunisia', 'sweden', 'europe', 'guadeloupe', 'saint-pierre-and-miquelon', 'quebec', 'french-guiana', 'new-zealand', 'portugal', 'france', 'thailand', 'switzerland', 'denmark', 'belgium', 'luxembourg', 'martinique', 'germany', 'united-kingdom'])"
      ]
     },
     "execution_count": 235,
     "metadata": {},
     "output_type": "execute_result"
    }
   ],
   "source": [
    "sugar_mean_dic.keys()"
   ]
  },
  {
   "cell_type": "code",
   "execution_count": 236,
   "metadata": {
    "collapsed": false
   },
   "outputs": [],
   "source": [
    "sugar_mean_sorted_list = sorted(sugar_mean_dic.items(), key=operator.itemgetter(1))"
   ]
  },
  {
   "cell_type": "code",
   "execution_count": 237,
   "metadata": {
    "collapsed": false
   },
   "outputs": [],
   "source": [
    "sugar_mean_sorted_list.reverse()"
   ]
  },
  {
   "cell_type": "code",
   "execution_count": 238,
   "metadata": {
    "collapsed": false
   },
   "outputs": [
    {
     "name": "stdout",
     "output_type": "stream",
     "text": [
      "tunisia\n",
      "quebec\n"
     ]
    }
   ],
   "source": [
    "for country in sugar_mean_sorted_list[:2]:\n",
    "    print(country[0])"
   ]
  },
  {
   "cell_type": "code",
   "execution_count": 239,
   "metadata": {
    "collapsed": false
   },
   "outputs": [],
   "source": [
    "country_list = [pair[0] for pair in sugar_mean_sorted_list]\n",
    "sugar_list = [pair[1] for pair in sugar_mean_sorted_list]"
   ]
  },
  {
   "cell_type": "code",
   "execution_count": 244,
   "metadata": {
    "collapsed": false
   },
   "outputs": [
    {
     "data": {
      "image/png": "[encoded data removed]",
      "text/plain": [
       "<matplotlib.figure.Figure at 0x3630b830>"
      ]
     },
     "metadata": {},
     "output_type": "display_data"
    }
   ],
   "source": [
    "y_pos = np.arange((len(country_list[:10])))\n",
    "plt.bar(y_pos, sugar_list[:10], align='center', alpha=0.5)\n",
    "plt.title('Average total sugar content per 100g')\n",
    "plt.xticks(y_pos, country_list[:10])\n",
    "plt.ylabel('Sugar/100g')\n",
    "plt.show()"
   ]
  },
  {
   "cell_type": "code",
   "execution_count": 245,
   "metadata": {
    "collapsed": false
   },
   "outputs": [
    {
     "data": {
      "text/plain": [
       "'tunisia'"
      ]
     },
     "execution_count": 245,
     "metadata": {},
     "output_type": "execute_result"
    }
   ],
   "source": [
    "country_list[0]"
   ]
  },
  {
   "cell_type": "code",
   "execution_count": 254,
   "metadata": {
    "collapsed": false
   },
   "outputs": [
    {
     "data": {
      "text/plain": [
       "[nan,\n",
       " 'Sugary snacks,Chocolates',\n",
       " 'ar:Choclate',\n",
       " 'Chips',\n",
       " 'Dairies,Yogurts',\n",
       " 'Salty snacks,Appetizers,Chips and fries,Crisps',\n",
       " 'Sugary snacks,Biscuits and cakes,Biscuits',\n",
       " 'Sugary snacks,Biscuits and cakes,Biscuits',\n",
       " 'Sugary snacks,Biscuits and cakes,Biscuits',\n",
       " 'Sugary snacks,Biscuits and cakes,Biscuits',\n",
       " 'Dairies,Yogurts,Stirred yogurts',\n",
       " 'Dairies,Yogurts,Fruit yogurts',\n",
       " 'Sugary snacks,Chocolates',\n",
       " 'Sugary snacks,Chocolates',\n",
       " 'Sugary snacks,Chocolates',\n",
       " 'Sugary snacks,Chocolates',\n",
       " 'Beverages,Carbonated drinks,Sodas,Sugared beverages',\n",
       " 'Sugary snacks,Chocolates',\n",
       " 'fr:Vermicelle']"
      ]
     },
     "execution_count": 254,
     "metadata": {},
     "output_type": "execute_result"
    }
   ],
   "source": [
    "return_category_tags(worlds_sugars, country_list[0])"
   ]
  },
  {
   "cell_type": "code",
   "execution_count": null,
   "metadata": {
    "collapsed": true
   },
   "outputs": [],
   "source": [
    ""
   ]
  }
 ],
 "metadata": {
  "anaconda-cloud": {},
  "kernelspec": {
   "display_name": "Python [Root]",
   "language": "python",
   "name": "Python [Root]"
  },
  "language_info": {
   "codemirror_mode": {
    "name": "ipython",
    "version": 3.0
   },
   "file_extension": ".py",
   "mimetype": "text/x-python",
   "name": "python",
   "nbconvert_exporter": "python",
   "pygments_lexer": "ipython3",
   "version": "3.5.2"
  }
 },
 "nbformat": 4,
 "nbformat_minor": 0
}